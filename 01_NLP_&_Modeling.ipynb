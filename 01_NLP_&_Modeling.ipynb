{
 "cells": [
  {
   "cell_type": "code",
   "execution_count": 1,
   "metadata": {},
   "outputs": [
    {
     "name": "stderr",
     "output_type": "stream",
     "text": [
      "/anaconda3/lib/python3.6/site-packages/sklearn/cross_validation.py:41: DeprecationWarning: This module was deprecated in version 0.18 in favor of the model_selection module into which all the refactored classes and functions are moved. Also note that the interface of the new CV iterators are different from that of this module. This module will be removed in 0.20.\n",
      "  \"This module will be removed in 0.20.\", DeprecationWarning)\n"
     ]
    }
   ],
   "source": [
    "import pandas as pd\n",
    "import numpy as np\n",
    "from sklearn.linear_model import LogisticRegression\n",
    "from sklearn.neighbors import KNeighborsClassifier\n",
    "from sklearn.preprocessing import StandardScaler\n",
    "from bs4 import BeautifulSoup     \n",
    "from sklearn.feature_extraction.text import CountVectorizer, HashingVectorizer, TfidfVectorizer\n",
    "from sklearn.cross_validation import cross_val_score, cross_val_predict, train_test_split\n",
    "import nltk\n",
    "from nltk.tokenize import RegexpTokenizer\n",
    "tokenizer = RegexpTokenizer(r'\\w+')\n",
    "from nltk.stem.porter import PorterStemmer\n",
    "import re\n",
    "from sklearn.model_selection import cross_val_score, StratifiedKFold\n",
    "from sklearn.ensemble import RandomForestClassifier\n",
    "import matplotlib.pyplot as plt\n",
    "\n",
    "%config InlineBackend.figure_format = 'retina'\n",
    "% matplotlib inline"
   ]
  },
  {
   "cell_type": "code",
   "execution_count": 4,
   "metadata": {
    "collapsed": true
   },
   "outputs": [],
   "source": [
    "df = pd.read_csv('./snoo.csv', index_col=0)"
   ]
  },
  {
   "cell_type": "code",
   "execution_count": 5,
   "metadata": {},
   "outputs": [
    {
     "data": {
      "text/html": [
       "<div>\n",
       "<style scoped>\n",
       "    .dataframe tbody tr th:only-of-type {\n",
       "        vertical-align: middle;\n",
       "    }\n",
       "\n",
       "    .dataframe tbody tr th {\n",
       "        vertical-align: top;\n",
       "    }\n",
       "\n",
       "    .dataframe thead th {\n",
       "        text-align: right;\n",
       "    }\n",
       "</style>\n",
       "<table border=\"1\" class=\"dataframe\">\n",
       "  <thead>\n",
       "    <tr style=\"text-align: right;\">\n",
       "      <th></th>\n",
       "      <th>Comments</th>\n",
       "      <th>Subreddits</th>\n",
       "      <th>Time</th>\n",
       "      <th>Titles</th>\n",
       "      <th>Upvotes</th>\n",
       "    </tr>\n",
       "  </thead>\n",
       "  <tbody>\n",
       "    <tr>\n",
       "      <th>0</th>\n",
       "      <td>342</td>\n",
       "      <td>NintendoSwitch</td>\n",
       "      <td>1519183023000</td>\n",
       "      <td>Less 'rip and tear', more 'post and snark'...</td>\n",
       "      <td>9853</td>\n",
       "    </tr>\n",
       "    <tr>\n",
       "      <th>1</th>\n",
       "      <td>556</td>\n",
       "      <td>videos</td>\n",
       "      <td>1519179050000</td>\n",
       "      <td>Heavy rain leaves trail under cristaline water...</td>\n",
       "      <td>13543</td>\n",
       "    </tr>\n",
       "    <tr>\n",
       "      <th>2</th>\n",
       "      <td>907</td>\n",
       "      <td>todayilearned</td>\n",
       "      <td>1519176061000</td>\n",
       "      <td>TIL that comedian Ryan Stiles from Whose Line ...</td>\n",
       "      <td>55462</td>\n",
       "    </tr>\n",
       "    <tr>\n",
       "      <th>3</th>\n",
       "      <td>83</td>\n",
       "      <td>aww</td>\n",
       "      <td>1519176707000</td>\n",
       "      <td>All grown up🐕</td>\n",
       "      <td>16440</td>\n",
       "    </tr>\n",
       "    <tr>\n",
       "      <th>4</th>\n",
       "      <td>809</td>\n",
       "      <td>gaming</td>\n",
       "      <td>1519176342000</td>\n",
       "      <td>Modern Warfare 2</td>\n",
       "      <td>22538</td>\n",
       "    </tr>\n",
       "  </tbody>\n",
       "</table>\n",
       "</div>"
      ],
      "text/plain": [
       "   Comments      Subreddits           Time  \\\n",
       "0       342  NintendoSwitch  1519183023000   \n",
       "1       556          videos  1519179050000   \n",
       "2       907   todayilearned  1519176061000   \n",
       "3        83             aww  1519176707000   \n",
       "4       809          gaming  1519176342000   \n",
       "\n",
       "                                              Titles  Upvotes  \n",
       "0      Less 'rip and tear', more 'post and snark'...     9853  \n",
       "1  Heavy rain leaves trail under cristaline water...    13543  \n",
       "2  TIL that comedian Ryan Stiles from Whose Line ...    55462  \n",
       "3                                      All grown up🐕    16440  \n",
       "4                                   Modern Warfare 2    22538  "
      ]
     },
     "execution_count": 5,
     "metadata": {},
     "output_type": "execute_result"
    }
   ],
   "source": [
    "df.head()"
   ]
  },
  {
   "cell_type": "code",
   "execution_count": 6,
   "metadata": {
    "collapsed": true
   },
   "outputs": [],
   "source": [
    "#Dropping duplicate observations. Keeping the last duplicate as it will have the highest number of comments.\n",
    "snoo = df.drop_duplicates(subset=['Titles', 'Subreddits'], keep='last', inplace=False)"
   ]
  },
  {
   "cell_type": "code",
   "execution_count": 7,
   "metadata": {},
   "outputs": [
    {
     "data": {
      "text/plain": [
       "(24631, 5)"
      ]
     },
     "execution_count": 7,
     "metadata": {},
     "output_type": "execute_result"
    }
   ],
   "source": [
    "#Curious to see how many observations I dropped (down from 40000)\n",
    "snoo.shape"
   ]
  },
  {
   "cell_type": "code",
   "execution_count": 94,
   "metadata": {},
   "outputs": [
    {
     "data": {
      "image/png": "[encoded data removed]",
      "text/plain": [
       "<Figure size 1000x500 with 1 Axes>"
      ]
     },
     "metadata": {
      "image/png": {
       "height": 462,
       "width": 870
      }
     },
     "output_type": "display_data"
    }
   ],
   "source": [
    "#Checking for a relationship between comments and upvotes\n",
    "plt.figure(figsize=(10, 5), dpi=100, facecolor='w', edgecolor='k')\n",
    "plt.scatter(snoo['Upvotes'],snoo['Comments'], c='g')\n",
    "plt.xlabel('Upvotes')\n",
    "plt.ylabel('Comments')\n",
    "plt.title(\"Spoiler: Upvotes Seemingly Have No Effect on Comments\");"
   ]
  },
  {
   "cell_type": "code",
   "execution_count": 30,
   "metadata": {},
   "outputs": [
    {
     "name": "stdout",
     "output_type": "stream",
     "text": [
      "19.0\n",
      "212.0\n"
     ]
    }
   ],
   "source": [
    "#The prompt asks for the median\n",
    "print(snoo['Comments'].median())\n",
    "print(snoo['Upvotes'].median())"
   ]
  },
  {
   "cell_type": "code",
   "execution_count": 10,
   "metadata": {},
   "outputs": [
    {
     "data": {
      "text/plain": [
       "Index(['Comments', 'Subreddits', 'Time', 'Titles', 'Upvotes'], dtype='object')"
      ]
     },
     "execution_count": 10,
     "metadata": {},
     "output_type": "execute_result"
    }
   ],
   "source": [
    "snoo.columns"
   ]
  },
  {
   "cell_type": "code",
   "execution_count": 11,
   "metadata": {},
   "outputs": [
    {
     "data": {
      "text/plain": [
       "Comments       int64\n",
       "Subreddits    object\n",
       "Time           int64\n",
       "Titles        object\n",
       "Upvotes        int64\n",
       "dtype: object"
      ]
     },
     "execution_count": 11,
     "metadata": {},
     "output_type": "execute_result"
    }
   ],
   "source": [
    "#Checking that my features are in the units I'd like\n",
    "snoo.dtypes"
   ]
  },
  {
   "cell_type": "code",
   "execution_count": 12,
   "metadata": {},
   "outputs": [
    {
     "data": {
      "text/html": [
       "<div>\n",
       "<style scoped>\n",
       "    .dataframe tbody tr th:only-of-type {\n",
       "        vertical-align: middle;\n",
       "    }\n",
       "\n",
       "    .dataframe tbody tr th {\n",
       "        vertical-align: top;\n",
       "    }\n",
       "\n",
       "    .dataframe thead th {\n",
       "        text-align: right;\n",
       "    }\n",
       "</style>\n",
       "<table border=\"1\" class=\"dataframe\">\n",
       "  <thead>\n",
       "    <tr style=\"text-align: right;\">\n",
       "      <th></th>\n",
       "      <th>Comments</th>\n",
       "      <th>Subreddits</th>\n",
       "      <th>Time</th>\n",
       "      <th>Titles</th>\n",
       "      <th>Upvotes</th>\n",
       "    </tr>\n",
       "  </thead>\n",
       "  <tbody>\n",
       "    <tr>\n",
       "      <th>10</th>\n",
       "      <td>252</td>\n",
       "      <td>BlackPeopleTwitter</td>\n",
       "      <td>1519171983000</td>\n",
       "      <td>Planned this outfit days in advance</td>\n",
       "      <td>12849</td>\n",
       "    </tr>\n",
       "    <tr>\n",
       "      <th>5</th>\n",
       "      <td>1240</td>\n",
       "      <td>reactiongifs</td>\n",
       "      <td>1519164511000</td>\n",
       "      <td>MRW another white person walks into the Theatr...</td>\n",
       "      <td>40574</td>\n",
       "    </tr>\n",
       "    <tr>\n",
       "      <th>24</th>\n",
       "      <td>49</td>\n",
       "      <td>memes</td>\n",
       "      <td>1519173367000</td>\n",
       "      <td>kermit savage af</td>\n",
       "      <td>3654</td>\n",
       "    </tr>\n",
       "    <tr>\n",
       "      <th>0</th>\n",
       "      <td>70</td>\n",
       "      <td>CrazyIdeas</td>\n",
       "      <td>1519179008000</td>\n",
       "      <td>Poke holes in all the condoms given out for th...</td>\n",
       "      <td>1851</td>\n",
       "    </tr>\n",
       "    <tr>\n",
       "      <th>3</th>\n",
       "      <td>218</td>\n",
       "      <td>funny</td>\n",
       "      <td>1519168597000</td>\n",
       "      <td>Oh crap!</td>\n",
       "      <td>21731</td>\n",
       "    </tr>\n",
       "  </tbody>\n",
       "</table>\n",
       "</div>"
      ],
      "text/plain": [
       "    Comments          Subreddits           Time  \\\n",
       "10       252  BlackPeopleTwitter  1519171983000   \n",
       "5       1240        reactiongifs  1519164511000   \n",
       "24        49               memes  1519173367000   \n",
       "0         70          CrazyIdeas  1519179008000   \n",
       "3        218               funny  1519168597000   \n",
       "\n",
       "                                               Titles  Upvotes  \n",
       "10                Planned this outfit days in advance    12849  \n",
       "5   MRW another white person walks into the Theatr...    40574  \n",
       "24                                   kermit savage af     3654  \n",
       "0   Poke holes in all the condoms given out for th...     1851  \n",
       "3                                            Oh crap!    21731  "
      ]
     },
     "execution_count": 12,
     "metadata": {},
     "output_type": "execute_result"
    }
   ],
   "source": [
    "snoo.head()"
   ]
  },
  {
   "cell_type": "code",
   "execution_count": 16,
   "metadata": {
    "scrolled": false
   },
   "outputs": [
    {
     "data": {
      "text/html": [
       "<div>\n",
       "<style scoped>\n",
       "    .dataframe tbody tr th:only-of-type {\n",
       "        vertical-align: middle;\n",
       "    }\n",
       "\n",
       "    .dataframe tbody tr th {\n",
       "        vertical-align: top;\n",
       "    }\n",
       "\n",
       "    .dataframe thead th {\n",
       "        text-align: right;\n",
       "    }\n",
       "</style>\n",
       "<table border=\"1\" class=\"dataframe\">\n",
       "  <thead>\n",
       "    <tr style=\"text-align: right;\">\n",
       "      <th></th>\n",
       "      <th>Comments</th>\n",
       "      <th>Subreddits</th>\n",
       "      <th>Time</th>\n",
       "      <th>Titles</th>\n",
       "      <th>Upvotes</th>\n",
       "    </tr>\n",
       "  </thead>\n",
       "  <tbody>\n",
       "    <tr>\n",
       "      <th>10</th>\n",
       "      <td>252</td>\n",
       "      <td>BlackPeopleTwitter</td>\n",
       "      <td>2018-02-20 19:13:03-05:00</td>\n",
       "      <td>Planned this outfit days in advance</td>\n",
       "      <td>12849</td>\n",
       "    </tr>\n",
       "    <tr>\n",
       "      <th>5</th>\n",
       "      <td>1240</td>\n",
       "      <td>reactiongifs</td>\n",
       "      <td>2018-02-20 17:08:31-05:00</td>\n",
       "      <td>MRW another white person walks into the Theatr...</td>\n",
       "      <td>40574</td>\n",
       "    </tr>\n",
       "    <tr>\n",
       "      <th>24</th>\n",
       "      <td>49</td>\n",
       "      <td>memes</td>\n",
       "      <td>2018-02-20 19:36:07-05:00</td>\n",
       "      <td>kermit savage af</td>\n",
       "      <td>3654</td>\n",
       "    </tr>\n",
       "    <tr>\n",
       "      <th>0</th>\n",
       "      <td>70</td>\n",
       "      <td>CrazyIdeas</td>\n",
       "      <td>2018-02-20 21:10:08-05:00</td>\n",
       "      <td>Poke holes in all the condoms given out for th...</td>\n",
       "      <td>1851</td>\n",
       "    </tr>\n",
       "    <tr>\n",
       "      <th>3</th>\n",
       "      <td>218</td>\n",
       "      <td>funny</td>\n",
       "      <td>2018-02-20 18:16:37-05:00</td>\n",
       "      <td>Oh crap!</td>\n",
       "      <td>21731</td>\n",
       "    </tr>\n",
       "  </tbody>\n",
       "</table>\n",
       "</div>"
      ],
      "text/plain": [
       "    Comments          Subreddits                      Time  \\\n",
       "10       252  BlackPeopleTwitter 2018-02-20 19:13:03-05:00   \n",
       "5       1240        reactiongifs 2018-02-20 17:08:31-05:00   \n",
       "24        49               memes 2018-02-20 19:36:07-05:00   \n",
       "0         70          CrazyIdeas 2018-02-20 21:10:08-05:00   \n",
       "3        218               funny 2018-02-20 18:16:37-05:00   \n",
       "\n",
       "                                               Titles  Upvotes  \n",
       "10                Planned this outfit days in advance    12849  \n",
       "5   MRW another white person walks into the Theatr...    40574  \n",
       "24                                   kermit savage af     3654  \n",
       "0   Poke holes in all the condoms given out for th...     1851  \n",
       "3                                            Oh crap!    21731  "
      ]
     },
     "execution_count": 16,
     "metadata": {},
     "output_type": "execute_result"
    }
   ],
   "source": [
    "#Changing the Time feature to datetime and then converting from UTC to EST\n",
    "snoo['Time'] = pd.to_datetime(snoo.Time, unit='ms')\n",
    "snoo['Time'] = snoo['Time'].dt.tz_localize('UTC').dt.tz_convert('US/Eastern')\n",
    "snoo.head()"
   ]
  },
  {
   "cell_type": "code",
   "execution_count": 90,
   "metadata": {
    "scrolled": false
   },
   "outputs": [
    {
     "data": {
      "image/png": "[encoded data removed]",
      "text/plain": [
       "<Figure size 800x500 with 1 Axes>"
      ]
     },
     "metadata": {
      "image/png": {
       "height": 462,
       "width": 706
      }
     },
     "output_type": "display_data"
    }
   ],
   "source": [
    "#When are comments highest?\n",
    "plt.figure(figsize=(8, 5), dpi=100, facecolor='w', edgecolor='k')\n",
    "snoo.Time.dt.hour.hist(color='green')\n",
    "plt.ylabel(\"Comments\")\n",
    "plt.xlabel(\"Hours of the Day\")\n",
    "plt.xlim(xmin=0, xmax=23)\n",
    "plt.xticks([0,8,15,22], ['Midnight', '8AM', '3PM', '10PM'])\n",
    "plt.yticks([0, 1000, 2000, 3000])\n",
    "plt.title(\"Hours Posts Have the Greatest Engagement\");"
   ]
  },
  {
   "cell_type": "code",
   "execution_count": 18,
   "metadata": {},
   "outputs": [
    {
     "data": {
      "text/plain": [
       "politics                79\n",
       "funny                   76\n",
       "The_Donald              72\n",
       "offlineTV               68\n",
       "dankmemes               67\n",
       "aww                     64\n",
       "FortNiteBR              64\n",
       "nba                     61\n",
       "FireEmblemHeroes        61\n",
       "rupaulsdragrace         60\n",
       "Rainbow6                59\n",
       "DDLC                    59\n",
       "Animemes                58\n",
       "gaming                  58\n",
       "GlobalOffensive         57\n",
       "hockey                  57\n",
       "PewdiepieSubmissions    57\n",
       "memes                   56\n",
       "PrequelMemes            56\n",
       "CryptoCurrency          56\n",
       "BlackPeopleTwitter      55\n",
       "CringeAnarchy           55\n",
       "tumblr                  55\n",
       "soccer                  54\n",
       "CBTS_Stream             54\n",
       "Name: Subreddits, dtype: int64"
      ]
     },
     "execution_count": 18,
     "metadata": {},
     "output_type": "execute_result"
    }
   ],
   "source": [
    "#Let's check which subreddits appear in r/all the most\n",
    "snoo['Subreddits'].value_counts()[0:25]"
   ]
  },
  {
   "cell_type": "code",
   "execution_count": 15,
   "metadata": {
    "collapsed": true
   },
   "outputs": [],
   "source": [
    "#Creating a boolean based on the median number of comments\n",
    "snoo['comments_high_low'] = np.where(snoo['Comments']>19.0, 'High', 'Low')"
   ]
  },
  {
   "cell_type": "markdown",
   "metadata": {},
   "source": [
    "### Natural Language Processing"
   ]
  },
  {
   "cell_type": "code",
   "execution_count": 16,
   "metadata": {
    "collapsed": true
   },
   "outputs": [],
   "source": [
    "#Setting up data for use in modeling \n",
    "X = snoo['Subreddits']\n",
    "y = snoo['comments_high_low']"
   ]
  },
  {
   "cell_type": "code",
   "execution_count": 17,
   "metadata": {
    "collapsed": true
   },
   "outputs": [],
   "source": [
    "X_train, X_test, y_train, y_test = train_test_split(X, y, test_size=0.3, random_state=1016)"
   ]
  },
  {
   "cell_type": "code",
   "execution_count": 18,
   "metadata": {},
   "outputs": [
    {
     "name": "stdout",
     "output_type": "stream",
     "text": [
      "(24631,) (24631,)\n",
      "(17241,) (17241,)\n",
      "(7390,) (7390,)\n"
     ]
    }
   ],
   "source": [
    "#Making sure my shapes match\n",
    "print(X.shape, y.shape)\n",
    "print(X_train.shape, y_train.shape)\n",
    "print(X_test.shape, y_test.shape)"
   ]
  },
  {
   "cell_type": "code",
   "execution_count": 19,
   "metadata": {
    "collapsed": true
   },
   "outputs": [],
   "source": [
    "cvec = CountVectorizer(max_features=2000)"
   ]
  },
  {
   "cell_type": "code",
   "execution_count": 20,
   "metadata": {
    "collapsed": true
   },
   "outputs": [],
   "source": [
    "cvecdata = cvec.fit_transform(X_train)"
   ]
  },
  {
   "cell_type": "code",
   "execution_count": 21,
   "metadata": {
    "collapsed": true
   },
   "outputs": [],
   "source": [
    "snooqt  = pd.DataFrame(cvecdata.todense(),\n",
    "             columns=cvec.get_feature_names())"
   ]
  },
  {
   "cell_type": "code",
   "execution_count": 23,
   "metadata": {},
   "outputs": [
    {
     "data": {
      "text/plain": [
       "TfidfVectorizer(analyzer='word', binary=False, decode_error='strict',\n",
       "        dtype=<class 'numpy.int64'>, encoding='utf-8', input='content',\n",
       "        lowercase=True, max_df=1.0, max_features=None, min_df=1,\n",
       "        ngram_range=(1, 1), norm='l2', preprocessor=None, smooth_idf=True,\n",
       "        stop_words=None, strip_accents=None, sublinear_tf=False,\n",
       "        token_pattern='(?u)\\\\b\\\\w\\\\w+\\\\b', tokenizer=None, use_idf=True,\n",
       "        vocabulary=None)"
      ]
     },
     "execution_count": 23,
     "metadata": {},
     "output_type": "execute_result"
    }
   ],
   "source": [
    "tvec = TfidfVectorizer()\n",
    "tvec.fit(X_train, y_train)"
   ]
  },
  {
   "cell_type": "code",
   "execution_count": 24,
   "metadata": {
    "collapsed": true
   },
   "outputs": [],
   "source": [
    "snooqtpi  = pd.DataFrame(tvec.transform(X_train, y_train).todense(),\n",
    "                   columns=tvec.get_feature_names(),\n",
    "                   index=[X_train, y_train])"
   ]
  },
  {
   "cell_type": "code",
   "execution_count": 25,
   "metadata": {
    "collapsed": true
   },
   "outputs": [],
   "source": [
    "cv = StratifiedKFold(n_splits=3, shuffle=True, random_state=1016)"
   ]
  },
  {
   "cell_type": "code",
   "execution_count": 26,
   "metadata": {},
   "outputs": [
    {
     "name": "stdout",
     "output_type": "stream",
     "text": [
      "Random Forest Score:\t0.684 ± 0.006\n"
     ]
    }
   ],
   "source": [
    "#cvec random forest\n",
    "dt = RandomForestClassifier()\n",
    "s = cross_val_score(dt, snooqt, y_train, cv=cv, n_jobs=-1)\n",
    "print(\"{} Score:\\t{:0.3} ± {:0.3}\".format(\"Random Forest\", s.mean().round(3), s.std().round(3)))"
   ]
  },
  {
   "cell_type": "code",
   "execution_count": 27,
   "metadata": {
    "collapsed": true
   },
   "outputs": [],
   "source": [
    "cvecdata2 = cvec.transform(X_test)"
   ]
  },
  {
   "cell_type": "code",
   "execution_count": 28,
   "metadata": {
    "collapsed": true
   },
   "outputs": [],
   "source": [
    "snooqt2  = pd.DataFrame(cvecdata2.todense(),\n",
    "             columns=cvec.get_feature_names())"
   ]
  },
  {
   "cell_type": "code",
   "execution_count": 29,
   "metadata": {},
   "outputs": [
    {
     "name": "stdout",
     "output_type": "stream",
     "text": [
      "Random Forest Score:\t0.664 ± 0.013\n"
     ]
    }
   ],
   "source": [
    "dt = RandomForestClassifier()\n",
    "s = cross_val_score(dt, snooqt2, y_test, cv=cv, n_jobs=-1)\n",
    "print(\"{} Score:\\t{:0.3} ± {:0.3}\".format(\"Random Forest\", s.mean().round(3), s.std().round(3)))"
   ]
  },
  {
   "cell_type": "code",
   "execution_count": 30,
   "metadata": {},
   "outputs": [
    {
     "data": {
      "text/html": [
       "<div>\n",
       "<style>\n",
       "    .dataframe thead tr:only-child th {\n",
       "        text-align: right;\n",
       "    }\n",
       "\n",
       "    .dataframe thead th {\n",
       "        text-align: left;\n",
       "    }\n",
       "\n",
       "    .dataframe tbody tr th {\n",
       "        vertical-align: top;\n",
       "    }\n",
       "</style>\n",
       "<table border=\"1\" class=\"dataframe\">\n",
       "  <thead>\n",
       "    <tr style=\"text-align: right;\">\n",
       "      <th></th>\n",
       "      <th>100yearsago</th>\n",
       "      <th>195</th>\n",
       "      <th>2007scape</th>\n",
       "      <th>2healthbars</th>\n",
       "      <th>3amjokes</th>\n",
       "      <th>3dprinting</th>\n",
       "      <th>3ds</th>\n",
       "      <th>40klore</th>\n",
       "      <th>49ers</th>\n",
       "      <th>4chan</th>\n",
       "      <th>...</th>\n",
       "      <th>youtubehaiku</th>\n",
       "      <th>yovannaventura</th>\n",
       "      <th>yugioh</th>\n",
       "      <th>yuzumiko</th>\n",
       "      <th>zelda</th>\n",
       "      <th>zerotwo</th>\n",
       "      <th>zerowaste</th>\n",
       "      <th>zettairyouiki</th>\n",
       "      <th>zoomies</th>\n",
       "      <th>zootopia</th>\n",
       "    </tr>\n",
       "  </thead>\n",
       "  <tbody>\n",
       "    <tr>\n",
       "      <th>0</th>\n",
       "      <td>0</td>\n",
       "      <td>0</td>\n",
       "      <td>0</td>\n",
       "      <td>0</td>\n",
       "      <td>0</td>\n",
       "      <td>0</td>\n",
       "      <td>0</td>\n",
       "      <td>0</td>\n",
       "      <td>0</td>\n",
       "      <td>0</td>\n",
       "      <td>...</td>\n",
       "      <td>0</td>\n",
       "      <td>0</td>\n",
       "      <td>0</td>\n",
       "      <td>0</td>\n",
       "      <td>0</td>\n",
       "      <td>0</td>\n",
       "      <td>0</td>\n",
       "      <td>0</td>\n",
       "      <td>0</td>\n",
       "      <td>0</td>\n",
       "    </tr>\n",
       "    <tr>\n",
       "      <th>1</th>\n",
       "      <td>0</td>\n",
       "      <td>0</td>\n",
       "      <td>0</td>\n",
       "      <td>0</td>\n",
       "      <td>0</td>\n",
       "      <td>0</td>\n",
       "      <td>0</td>\n",
       "      <td>0</td>\n",
       "      <td>0</td>\n",
       "      <td>0</td>\n",
       "      <td>...</td>\n",
       "      <td>0</td>\n",
       "      <td>0</td>\n",
       "      <td>0</td>\n",
       "      <td>0</td>\n",
       "      <td>0</td>\n",
       "      <td>0</td>\n",
       "      <td>0</td>\n",
       "      <td>0</td>\n",
       "      <td>0</td>\n",
       "      <td>0</td>\n",
       "    </tr>\n",
       "    <tr>\n",
       "      <th>2</th>\n",
       "      <td>0</td>\n",
       "      <td>0</td>\n",
       "      <td>0</td>\n",
       "      <td>0</td>\n",
       "      <td>0</td>\n",
       "      <td>0</td>\n",
       "      <td>0</td>\n",
       "      <td>0</td>\n",
       "      <td>0</td>\n",
       "      <td>0</td>\n",
       "      <td>...</td>\n",
       "      <td>0</td>\n",
       "      <td>0</td>\n",
       "      <td>0</td>\n",
       "      <td>0</td>\n",
       "      <td>0</td>\n",
       "      <td>0</td>\n",
       "      <td>0</td>\n",
       "      <td>0</td>\n",
       "      <td>0</td>\n",
       "      <td>0</td>\n",
       "    </tr>\n",
       "    <tr>\n",
       "      <th>3</th>\n",
       "      <td>0</td>\n",
       "      <td>0</td>\n",
       "      <td>0</td>\n",
       "      <td>0</td>\n",
       "      <td>0</td>\n",
       "      <td>0</td>\n",
       "      <td>0</td>\n",
       "      <td>0</td>\n",
       "      <td>0</td>\n",
       "      <td>0</td>\n",
       "      <td>...</td>\n",
       "      <td>0</td>\n",
       "      <td>0</td>\n",
       "      <td>0</td>\n",
       "      <td>0</td>\n",
       "      <td>0</td>\n",
       "      <td>0</td>\n",
       "      <td>0</td>\n",
       "      <td>0</td>\n",
       "      <td>0</td>\n",
       "      <td>0</td>\n",
       "    </tr>\n",
       "    <tr>\n",
       "      <th>4</th>\n",
       "      <td>0</td>\n",
       "      <td>0</td>\n",
       "      <td>0</td>\n",
       "      <td>0</td>\n",
       "      <td>0</td>\n",
       "      <td>0</td>\n",
       "      <td>0</td>\n",
       "      <td>0</td>\n",
       "      <td>0</td>\n",
       "      <td>0</td>\n",
       "      <td>...</td>\n",
       "      <td>0</td>\n",
       "      <td>0</td>\n",
       "      <td>0</td>\n",
       "      <td>0</td>\n",
       "      <td>0</td>\n",
       "      <td>0</td>\n",
       "      <td>0</td>\n",
       "      <td>0</td>\n",
       "      <td>0</td>\n",
       "      <td>0</td>\n",
       "    </tr>\n",
       "  </tbody>\n",
       "</table>\n",
       "<p>5 rows × 2000 columns</p>\n",
       "</div>"
      ],
      "text/plain": [
       "   100yearsago  195  2007scape  2healthbars  3amjokes  3dprinting  3ds  \\\n",
       "0            0    0          0            0         0           0    0   \n",
       "1            0    0          0            0         0           0    0   \n",
       "2            0    0          0            0         0           0    0   \n",
       "3            0    0          0            0         0           0    0   \n",
       "4            0    0          0            0         0           0    0   \n",
       "\n",
       "   40klore  49ers  4chan    ...     youtubehaiku  yovannaventura  yugioh  \\\n",
       "0        0      0      0    ...                0               0       0   \n",
       "1        0      0      0    ...                0               0       0   \n",
       "2        0      0      0    ...                0               0       0   \n",
       "3        0      0      0    ...                0               0       0   \n",
       "4        0      0      0    ...                0               0       0   \n",
       "\n",
       "   yuzumiko  zelda  zerotwo  zerowaste  zettairyouiki  zoomies  zootopia  \n",
       "0         0      0        0          0              0        0         0  \n",
       "1         0      0        0          0              0        0         0  \n",
       "2         0      0        0          0              0        0         0  \n",
       "3         0      0        0          0              0        0         0  \n",
       "4         0      0        0          0              0        0         0  \n",
       "\n",
       "[5 rows x 2000 columns]"
      ]
     },
     "execution_count": 30,
     "metadata": {},
     "output_type": "execute_result"
    }
   ],
   "source": [
    "snooqt2.head()"
   ]
  },
  {
   "cell_type": "code",
   "execution_count": 31,
   "metadata": {},
   "outputs": [
    {
     "name": "stdout",
     "output_type": "stream",
     "text": [
      "Random Forest Score:\t0.684 ± 0.007\n"
     ]
    }
   ],
   "source": [
    "#tfidf random forest\n",
    "dt = RandomForestClassifier()\n",
    "s = cross_val_score(dt, snooqtpi, y_train, cv=cv, n_jobs=-1)\n",
    "print(\"{} Score:\\t{:0.3} ± {:0.3}\".format(\"Random Forest\", s.mean().round(3), s.std().round(3)))"
   ]
  },
  {
   "cell_type": "code",
   "execution_count": 32,
   "metadata": {
    "collapsed": true
   },
   "outputs": [],
   "source": [
    "snooqtpi2  = pd.DataFrame(tvec.transform(X_test, y_test).todense(),\n",
    "                   columns=tvec.get_feature_names(),\n",
    "                   index=[X_test, y_test])"
   ]
  },
  {
   "cell_type": "code",
   "execution_count": 40,
   "metadata": {
    "collapsed": true
   },
   "outputs": [],
   "source": [
    "d = {'High': True, 'Low': False}"
   ]
  },
  {
   "cell_type": "code",
   "execution_count": 51,
   "metadata": {
    "collapsed": true
   },
   "outputs": [],
   "source": [
    "snooqtpi2 = snooqtpi2.reset_index()"
   ]
  },
  {
   "cell_type": "code",
   "execution_count": 53,
   "metadata": {
    "collapsed": true
   },
   "outputs": [],
   "source": [
    "snooqtpi2.comments_high_low = snooqtpi2['comments_high_low'].map(d)"
   ]
  },
  {
   "cell_type": "code",
   "execution_count": 63,
   "metadata": {
    "collapsed": true
   },
   "outputs": [],
   "source": [
    "snooqtpi2 = snooqtpi2.set_index('Subreddits')"
   ]
  },
  {
   "cell_type": "code",
   "execution_count": 34,
   "metadata": {},
   "outputs": [
    {
     "name": "stdout",
     "output_type": "stream",
     "text": [
      "Random Forest Score:\t0.666 ± 0.014\n"
     ]
    }
   ],
   "source": [
    "dt = RandomForestClassifier()\n",
    "s = cross_val_score(dt, snooqtpi2, y_test, cv=cv, n_jobs=-1)\n",
    "print(\"{} Score:\\t{:0.3} ± {:0.3}\".format(\"Random Forest\", s.mean().round(3), s.std().round(3)))"
   ]
  },
  {
   "cell_type": "markdown",
   "metadata": {},
   "source": [
    "#### Running a logistic regression"
   ]
  },
  {
   "cell_type": "code",
   "execution_count": 64,
   "metadata": {},
   "outputs": [
    {
     "name": "stdout",
     "output_type": "stream",
     "text": [
      "1.0\n"
     ]
    }
   ],
   "source": [
    "y = snooqtpi2['comments_high_low'].values\n",
    "X = snooqtpi2.drop('comments_high_low')\n",
    "logreg = LogisticRegression()\n",
    "logreg.fit(X, y)\n",
    "score = logreg.score(X, y)\n",
    "print(score)"
   ]
  }
 ],
 "metadata": {
  "kernelspec": {
   "display_name": "Python [default]",
   "language": "python",
   "name": "python3"
  },
  "language_info": {
   "codemirror_mode": {
    "name": "ipython",
    "version": 3
   },
   "file_extension": ".py",
   "mimetype": "text/x-python",
   "name": "python",
   "nbconvert_exporter": "python",
   "pygments_lexer": "ipython3",
   "version": "3.6.4"
  }
 },
 "nbformat": 4,
 "nbformat_minor": 2
}
